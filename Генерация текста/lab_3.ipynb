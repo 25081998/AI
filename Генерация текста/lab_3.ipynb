{
  "nbformat": 4,
  "nbformat_minor": 0,
  "metadata": {
    "colab": {
      "name": "lab_3.ipynb",
      "provenance": [],
      "collapsed_sections": []
    },
    "kernelspec": {
      "name": "python3",
      "display_name": "Python 3"
    },
    "accelerator": "GPU"
  },
  "cells": [
    {
      "cell_type": "code",
      "metadata": {
        "id": "NRWpTONyZJT5",
        "colab_type": "code",
        "colab": {}
      },
      "source": [
        "%%capture\n",
        "\n",
        "import tensorflow as tf\n",
        "from tensorflow.keras import Sequential\n",
        "from tensorflow.keras.layers import Embedding, GRU, LSTM, BatchNormalization\n",
        "from tensorflow.keras.layers import Dropout, Dense, SimpleRNN\n",
        "from tensorflow.keras.callbacks import ModelCheckpoint, EarlyStopping\n",
        "from gensim.models import Word2Vec\n",
        "from keras.utils.data_utils import get_file\n",
        "\n",
        "import numpy as np\n",
        "\n",
        "\n",
        "import os\n",
        "import time\n",
        "from tqdm import tqdm\n",
        "\n",
        "import re\n",
        "\n",
        "import nltk\n",
        "nltk.download('all')\n",
        "\n",
        "import matplotlib\n",
        "from matplotlib import pyplot as plt\n"
      ],
      "execution_count": 9,
      "outputs": []
    },
    {
      "cell_type": "code",
      "metadata": {
        "id": "cD0_3h1OE9av",
        "colab_type": "code",
        "colab": {
          "base_uri": "https://localhost:8080/",
          "height": 54
        },
        "outputId": "9e4eceb0-ca35-4254-f385-ff25bd2fe78c"
      },
      "source": [
        "\"\"\"\n",
        "'zapiskiw.txt', \n",
        "'r_bakenshik.txt',\n",
        "'gulag.txt',\n",
        "'griby.txt',\n",
        "'azazel.txt',\n",
        "'3rdflare.txt',\n",
        "'grossman10.txt',\n",
        "'monah.txt',\n",
        "'bonapart.txt',\n",
        "'kladsoln.txt'\n",
        "\n",
        "'http://lib.ru/BULGAKOW/zapiskiw.txt',\n",
        "'http://lib.ru/PROZA/PAUSTOWSKIJ/r_bakenshik.txt',\n",
        "'http://lib.ru/PROZA/SOLZHENICYN/gulag.txt',\n",
        "'http://lib.ru/PROZA/SOLOUHIN/griby.txt',\n",
        "'http://lib.ru/RUSS_DETEKTIW/BAKUNIN/azazel.txt',\n",
        "'http://lib.ru/PROZA/BYKOW/3rdflare.txt',\n",
        "'http://lib.ru/PROZA/GROSSMAN/grossman10.txt',\n",
        "'http://lib.ru/KOWAL/monah.txt',\n",
        "'http://lib.ru/PROZA/OKUDZHAWA/bonapart.txt',\n",
        "'http://lib.ru/PRISHWIN/kladsoln.txt'\n",
        "\"\"\""
      ],
      "execution_count": 10,
      "outputs": [
        {
          "output_type": "execute_result",
          "data": {
            "text/plain": [
              "\"\\n'zapiskiw.txt', \\n'r_bakenshik.txt',\\n'gulag.txt',\\n'griby.txt',\\n'azazel.txt',\\n'3rdflare.txt',\\n'grossman10.txt',\\n'monah.txt',\\n'bonapart.txt',\\n'kladsoln.txt'\\n\\n'http://lib.ru/BULGAKOW/zapiskiw.txt',\\n'http://lib.ru/PROZA/PAUSTOWSKIJ/r_bakenshik.txt',\\n'http://lib.ru/PROZA/SOLZHENICYN/gulag.txt',\\n'http://lib.ru/PROZA/SOLOUHIN/griby.txt',\\n'http://lib.ru/RUSS_DETEKTIW/BAKUNIN/azazel.txt',\\n'http://lib.ru/PROZA/BYKOW/3rdflare.txt',\\n'http://lib.ru/PROZA/GROSSMAN/grossman10.txt',\\n'http://lib.ru/KOWAL/monah.txt',\\n'http://lib.ru/PROZA/OKUDZHAWA/bonapart.txt',\\n'http://lib.ru/PRISHWIN/kladsoln.txt'\\n\""
            ]
          },
          "metadata": {
            "tags": []
          },
          "execution_count": 10
        }
      ]
    },
    {
      "cell_type": "markdown",
      "metadata": {
        "id": "gpevUzy4qZyY",
        "colab_type": "text"
      },
      "source": [
        "# Считывание книги\n",
        "\n"
      ]
    },
    {
      "cell_type": "code",
      "metadata": {
        "id": "b04eXEIdIMU-",
        "colab_type": "code",
        "colab": {}
      },
      "source": [
        "def read_text(book, url):\n",
        "  text = ''\n",
        "  path = get_file(book, origin=url)    \n",
        "  with open(path, 'rb') as f:\n",
        "      text = f.read().decode(encoding='koi8-r')\n",
        "  return text"
      ],
      "execution_count": 11,
      "outputs": []
    },
    {
      "cell_type": "code",
      "metadata": {
        "id": "bCT5_J56M12C",
        "colab_type": "code",
        "colab": {
          "base_uri": "https://localhost:8080/",
          "height": 52
        },
        "outputId": "bafd3d0b-0abf-44be-b1df-0537475d5204"
      },
      "source": [
        "text = read_text('azazel.txt', 'http://lib.ru/RUSS_DETEKTIW/BAKUNIN/azazel.txt')"
      ],
      "execution_count": 12,
      "outputs": [
        {
          "output_type": "stream",
          "text": [
            "Downloading data from http://lib.ru/RUSS_DETEKTIW/BAKUNIN/azazel.txt\n",
            " 401408/Unknown - 0s 1us/step"
          ],
          "name": "stdout"
        }
      ]
    },
    {
      "cell_type": "markdown",
      "metadata": {
        "id": "r9TJDgW4q3XN",
        "colab_type": "text"
      },
      "source": [
        "# Очистка книги от html тегов"
      ]
    },
    {
      "cell_type": "code",
      "metadata": {
        "id": "MvMLI2H1XDdt",
        "colab_type": "code",
        "colab": {}
      },
      "source": [
        "def clear_html(text):\n",
        "  res = text\n",
        "  res = res.replace('<pre>', '', 1)\n",
        "  res = res[res.find('<pre>'):]\n",
        "  res = res.replace('<pre>', '', 1)\n",
        "  res = res[:res.find('<pre>')]\n",
        "  res = res[res.find('Евгений Морозов'):]\n",
        "\n",
        "  to_del = ['\\n', '\\t', 'x x x', '-']\n",
        "  for d in to_del:\n",
        "    res = res.replace(d, ' ')\n",
        "\n",
        "  t = res\n",
        "  res = []\n",
        "\n",
        "  while '</ul>' in t:\n",
        "    t = t.replace('<ul>', '', 1)\n",
        "    t_ = t[t.find('</ul>'):t.find('<ul>')]\n",
        "    res.append(t_.replace('</ul>', '', 1)) \n",
        "    t = t[t.find('<ul>'):]  \n",
        "\n",
        "  for s in res:\n",
        "    if (s == '') | (s == '   ') | (s == '    '):\n",
        "      res.remove(s)\n",
        "  return res"
      ],
      "execution_count": 13,
      "outputs": []
    },
    {
      "cell_type": "code",
      "metadata": {
        "id": "6p2IXvoeXqx0",
        "colab_type": "code",
        "colab": {}
      },
      "source": [
        "t = clear_html(text)"
      ],
      "execution_count": 14,
      "outputs": []
    },
    {
      "cell_type": "markdown",
      "metadata": {
        "id": "HLs-u1dmrDhP",
        "colab_type": "text"
      },
      "source": [
        "# Создание последовательностей"
      ]
    },
    {
      "cell_type": "code",
      "metadata": {
        "id": "1b0AJAc300cF",
        "colab_type": "code",
        "colab": {}
      },
      "source": [
        "def make_tokens(text):\n",
        "  res = []\n",
        "  tags = nltk.pos_tag(nltk.word_tokenize(text))\n",
        "  for tag in tags:\n",
        "      if tag[1] != 'NNP':\n",
        "          res.append(tag[0].lower())\n",
        "      else:\n",
        "          res.append(tag[0])\n",
        "  return res"
      ],
      "execution_count": 15,
      "outputs": []
    },
    {
      "cell_type": "code",
      "metadata": {
        "id": "7HoGHIcOcF8A",
        "colab_type": "code",
        "colab": {}
      },
      "source": [
        "def make_seqs(text, lenght=50):\n",
        "  ch_seqs = []\n",
        "  seqs = []\n",
        "  for chap in text:\n",
        "    tokens = make_tokens(chap)\n",
        "    i = 0\n",
        "    for j in range(lenght, len(tokens), lenght):\n",
        "      ch_seqs.append(tokens[i:j])\n",
        "      i = j\n",
        "    seqs.extend(ch_seqs)\n",
        "  return seqs"
      ],
      "execution_count": 16,
      "outputs": []
    },
    {
      "cell_type": "code",
      "metadata": {
        "id": "fkn2waATdLsZ",
        "colab_type": "code",
        "colab": {}
      },
      "source": [
        "seqs = make_seqs(t)"
      ],
      "execution_count": 17,
      "outputs": []
    },
    {
      "cell_type": "markdown",
      "metadata": {
        "id": "nKl3G6QPrLFE",
        "colab_type": "text"
      },
      "source": [
        "# Приведение к типу Word2Vec"
      ]
    },
    {
      "cell_type": "code",
      "metadata": {
        "id": "lXUotg5wqsmo",
        "colab_type": "code",
        "colab": {}
      },
      "source": [
        "w2v = Word2Vec(seqs, min_count=2, size = 510, workers = 4, iter = 27, alpha = 0.1)"
      ],
      "execution_count": 18,
      "outputs": []
    },
    {
      "cell_type": "markdown",
      "metadata": {
        "id": "BywuTsTIrSM_",
        "colab_type": "text"
      },
      "source": [
        "# Создание взаимооднозначных словарей"
      ]
    },
    {
      "cell_type": "code",
      "metadata": {
        "id": "AbR9IFzQr5U4",
        "colab_type": "code",
        "colab": {}
      },
      "source": [
        "def make_vocabs(w2v):\n",
        "  ind = 0\n",
        "  w_i = {}\n",
        "  i_w = {}\n",
        "  for w in w2v.wv.vocab:\n",
        "    w_i[w] = ind\n",
        "    i_w[ind] = w\n",
        "    ind += 1\n",
        "  return w_i, i_w"
      ],
      "execution_count": 19,
      "outputs": []
    },
    {
      "cell_type": "code",
      "metadata": {
        "id": "uW1rPFBjtBgR",
        "colab_type": "code",
        "colab": {}
      },
      "source": [
        "word_inds_vocab, inds_word_vocab = make_vocabs(w2v)"
      ],
      "execution_count": 20,
      "outputs": []
    },
    {
      "cell_type": "markdown",
      "metadata": {
        "id": "uGUnxInAreHC",
        "colab_type": "text"
      },
      "source": [
        "# Перевод на язык чисел"
      ]
    },
    {
      "cell_type": "code",
      "metadata": {
        "id": "WdiiIBJWtqBx",
        "colab_type": "code",
        "colab": {}
      },
      "source": [
        "def translate_word(w, w_i):\n",
        "  if w in w_i:\n",
        "    return w_i[w]\n",
        "  return w_i[',']"
      ],
      "execution_count": 21,
      "outputs": []
    },
    {
      "cell_type": "code",
      "metadata": {
        "id": "NDY-KYeewgyE",
        "colab_type": "code",
        "colab": {}
      },
      "source": [
        "def translate_text(seqs, w_i):\n",
        "  res = []\n",
        "  for seq in tqdm(seqs):\n",
        "    res.append(list(map(lambda x: translate_word(x, w_i), seq)))\n",
        "  return res"
      ],
      "execution_count": 22,
      "outputs": []
    },
    {
      "cell_type": "code",
      "metadata": {
        "id": "nd_tfZXqxfmR",
        "colab_type": "code",
        "colab": {
          "base_uri": "https://localhost:8080/",
          "height": 52
        },
        "outputId": "05a201ef-caef-4f31-98a1-00650f4e428c"
      },
      "source": [
        "data = tf.data.Dataset.from_tensor_slices(translate_text(seqs, word_inds_vocab))\n",
        "data"
      ],
      "execution_count": 23,
      "outputs": [
        {
          "output_type": "stream",
          "text": [
            "100%|██████████| 19728/19728 [00:00<00:00, 79810.98it/s]\n"
          ],
          "name": "stderr"
        },
        {
          "output_type": "execute_result",
          "data": {
            "text/plain": [
              "<TensorSliceDataset shapes: (50,), types: tf.int32>"
            ]
          },
          "metadata": {
            "tags": []
          },
          "execution_count": 23
        }
      ]
    },
    {
      "cell_type": "markdown",
      "metadata": {
        "id": "je59FaqGrqgT",
        "colab_type": "text"
      },
      "source": [
        "# Деление на обучающую и тестовую последовательности"
      ]
    },
    {
      "cell_type": "code",
      "metadata": {
        "id": "oKTJj360yF0p",
        "colab_type": "code",
        "colab": {}
      },
      "source": [
        "def split_input_target(chunk):\n",
        "    input_text = chunk[:-1]\n",
        "    target_text = chunk[1:]\n",
        "    return input_text, target_text"
      ],
      "execution_count": 24,
      "outputs": []
    },
    {
      "cell_type": "code",
      "metadata": {
        "id": "hPv_IiNRymkV",
        "colab_type": "code",
        "colab": {
          "base_uri": "https://localhost:8080/",
          "height": 34
        },
        "outputId": "3e0c5666-2c6f-4352-df9d-0940a47a7bf8"
      },
      "source": [
        "dataset = data.map(split_input_target)\n",
        "dataset"
      ],
      "execution_count": 25,
      "outputs": [
        {
          "output_type": "execute_result",
          "data": {
            "text/plain": [
              "<MapDataset shapes: ((49,), (49,)), types: (tf.int32, tf.int32)>"
            ]
          },
          "metadata": {
            "tags": []
          },
          "execution_count": 25
        }
      ]
    },
    {
      "cell_type": "markdown",
      "metadata": {
        "id": "qx-DjUPfr6J5",
        "colab_type": "text"
      },
      "source": [
        "# Создание батчей"
      ]
    },
    {
      "cell_type": "code",
      "metadata": {
        "id": "9xRUcmQVy8X6",
        "colab_type": "code",
        "colab": {
          "base_uri": "https://localhost:8080/",
          "height": 34
        },
        "outputId": "de1fd71d-c23d-46c8-d143-6c9af704198c"
      },
      "source": [
        "dataset = dataset.shuffle(10000).batch(128, drop_remainder=True)\n",
        "dataset"
      ],
      "execution_count": 26,
      "outputs": [
        {
          "output_type": "execute_result",
          "data": {
            "text/plain": [
              "<BatchDataset shapes: ((128, 49), (128, 49)), types: (tf.int32, tf.int32)>"
            ]
          },
          "metadata": {
            "tags": []
          },
          "execution_count": 26
        }
      ]
    },
    {
      "cell_type": "markdown",
      "metadata": {
        "id": "jxsI8eigsimN",
        "colab_type": "text"
      },
      "source": [
        "# Проектирование моделей\n"
      ]
    },
    {
      "cell_type": "markdown",
      "metadata": {
        "id": "w8ktQ6w9ujCl",
        "colab_type": "text"
      },
      "source": [
        "# SimpleRNN"
      ]
    },
    {
      "cell_type": "code",
      "metadata": {
        "id": "uGUPq_XsslSM",
        "colab_type": "code",
        "colab": {}
      },
      "source": [
        "RNN_DIR = \"./rnn\""
      ],
      "execution_count": 27,
      "outputs": []
    },
    {
      "cell_type": "code",
      "metadata": {
        "id": "Mwd9MFKCslRB",
        "colab_type": "code",
        "colab": {}
      },
      "source": [
        "! mkdir -p rnn"
      ],
      "execution_count": 28,
      "outputs": []
    },
    {
      "cell_type": "code",
      "metadata": {
        "id": "4T-5D7v318qV",
        "colab_type": "code",
        "colab": {}
      },
      "source": [
        "def ModelRNN(w2v, batch_size, rnn_units = 256, neuros = 64, drop_rate = 0.1):\n",
        "    vocab_size = len(w2v.wv.vocab)\n",
        "    model = Sequential([\n",
        "      # 1 layer\n",
        "        Embedding(vocab_size, w2v.vector_size, \n",
        "                  batch_input_shape=[batch_size, None], weights=[w2v.wv.vectors]),\n",
        "      # 2 layer \n",
        "        SimpleRNN(rnn_units, return_sequences=True, stateful=False, \n",
        "          recurrent_initializer='glorot_uniform'), \n",
        "      # 3 layer\n",
        "        Dense(vocab_size, kernel_initializer=\"glorot_uniform\")   \n",
        "    ])\n",
        "    #optimizer = RMSprop(learning_rate=0.01)\n",
        "    #model.compile(loss='categorical_crossentropy', optimizer=optimizer)\n",
        "    return model"
      ],
      "execution_count": 29,
      "outputs": []
    },
    {
      "cell_type": "markdown",
      "metadata": {
        "id": "DewzF2NLusxJ",
        "colab_type": "text"
      },
      "source": [
        "# 1 Layer LSTM"
      ]
    },
    {
      "cell_type": "code",
      "metadata": {
        "id": "Q3UKKVUjug10",
        "colab_type": "code",
        "colab": {}
      },
      "source": [
        "LSTM_1_DIR = \"./lstm_1\""
      ],
      "execution_count": 30,
      "outputs": []
    },
    {
      "cell_type": "code",
      "metadata": {
        "id": "DyIBdteYuhFs",
        "colab_type": "code",
        "colab": {}
      },
      "source": [
        "! mkdir -p lstm_1"
      ],
      "execution_count": 31,
      "outputs": []
    },
    {
      "cell_type": "code",
      "metadata": {
        "id": "RHpXyymYsuLQ",
        "colab_type": "code",
        "colab": {}
      },
      "source": [
        "def ModelLSTM_1(w2v, batch_size, rnn_units = 256, neuros = 64, drop_rate = 0.1):\n",
        "    vocab_size = len(w2v.wv.vocab)\n",
        "    model = Sequential([\n",
        "      # 1 layer\n",
        "        Embedding(vocab_size, w2v.vector_size, \n",
        "                  batch_input_shape=[batch_size, None], weights=[w2v.wv.vectors]),\n",
        "      # 2 layer \n",
        "        LSTM(rnn_units, return_sequences=True, stateful=False, \n",
        "          recurrent_initializer='glorot_uniform'), \n",
        "      # 3 layer\n",
        "        Dense(vocab_size, kernel_initializer=\"glorot_uniform\")\n",
        "    ])\n",
        "    return model"
      ],
      "execution_count": 32,
      "outputs": []
    },
    {
      "cell_type": "markdown",
      "metadata": {
        "id": "X_P97HdovJrJ",
        "colab_type": "text"
      },
      "source": [
        "# 2 Layers LSTM"
      ]
    },
    {
      "cell_type": "code",
      "metadata": {
        "id": "scJnpuvcvNob",
        "colab_type": "code",
        "colab": {}
      },
      "source": [
        "LSTM_2_DIR = \"./lstm_2\""
      ],
      "execution_count": 33,
      "outputs": []
    },
    {
      "cell_type": "code",
      "metadata": {
        "id": "GAMimfz0vN7x",
        "colab_type": "code",
        "colab": {}
      },
      "source": [
        "! mkdir -p lstm_2"
      ],
      "execution_count": 34,
      "outputs": []
    },
    {
      "cell_type": "code",
      "metadata": {
        "id": "sCAjGJlEsrPo",
        "colab_type": "code",
        "colab": {}
      },
      "source": [
        "def ModelLSTM_2(w2v, batch_size, rnn_units = 256, neuros = 64, drop_rate = 0.1):\n",
        "    vocab_size = len(w2v.wv.vocab)\n",
        "    model = Sequential([\n",
        "      # 1 layer\n",
        "        Embedding(vocab_size, w2v.vector_size, \n",
        "                  batch_input_shape=[batch_size, None], weights=[w2v.wv.vectors]),\n",
        "      # 2 layer \n",
        "        LSTM(rnn_units, return_sequences=True, stateful=False, \n",
        "          recurrent_initializer='glorot_uniform'), \n",
        "      # 3 layer\n",
        "        LSTM(rnn_units, return_sequences=True, stateful=False, \n",
        "          recurrent_initializer='glorot_uniform'),\n",
        "      # 4 layer\n",
        "        Dense(vocab_size, kernel_initializer=\"glorot_uniform\")\n",
        "    ])\n",
        "    return model"
      ],
      "execution_count": 35,
      "outputs": []
    },
    {
      "cell_type": "markdown",
      "metadata": {
        "id": "4UvbKtCZvU3q",
        "colab_type": "text"
      },
      "source": [
        "# GRU"
      ]
    },
    {
      "cell_type": "code",
      "metadata": {
        "id": "M4hTwrAFvXHb",
        "colab_type": "code",
        "colab": {}
      },
      "source": [
        "GRU_DIR = \"./gru\""
      ],
      "execution_count": 36,
      "outputs": []
    },
    {
      "cell_type": "code",
      "metadata": {
        "id": "nbfudxGGvXUk",
        "colab_type": "code",
        "colab": {}
      },
      "source": [
        "! mkdir -p gru"
      ],
      "execution_count": 37,
      "outputs": []
    },
    {
      "cell_type": "code",
      "metadata": {
        "id": "KG1k-vi2s0fF",
        "colab_type": "code",
        "colab": {}
      },
      "source": [
        "def ModelGRU(w2v, batch_size, rnn_units = 256, neuros = 64, drop_rate = 0.1):\n",
        "    vocab_size = len(w2v.wv.vocab)\n",
        "    model = Sequential([\n",
        "      # 1 layer\n",
        "        Embedding(vocab_size, w2v.vector_size, \n",
        "                  batch_input_shape=[batch_size, None], weights=[w2v.wv.vectors]),\n",
        "      # 2 layer \n",
        "        GRU(rnn_units, return_sequences=True, stateful=False, \n",
        "          recurrent_initializer='glorot_uniform'), \n",
        "      # 3 layer\n",
        "        Dense(vocab_size, kernel_initializer=\"glorot_uniform\")\n",
        "    ])\n",
        "    return model"
      ],
      "execution_count": 38,
      "outputs": []
    },
    {
      "cell_type": "markdown",
      "metadata": {
        "id": "-70A3t1Hs-S5",
        "colab_type": "text"
      },
      "source": [
        "# Чекпоинты"
      ]
    },
    {
      "cell_type": "code",
      "metadata": {
        "id": "e4WpuGSGtESh",
        "colab_type": "code",
        "colab": {}
      },
      "source": [
        "def checkpoint_creator(checkpoint_dir = \"./\"):\n",
        "    checkpoint_prefix = os.path.join(checkpoint_dir, \"checkpoints/ckpt_model\")\n",
        "    checkpoint_callback = ModelCheckpoint(monitor=\"loss\", \n",
        "                                          filepath=checkpoint_prefix,\n",
        "                                          save_weights_only=True, \n",
        "                                          save_best_only=True)\n",
        "    return checkpoint_callback"
      ],
      "execution_count": 39,
      "outputs": []
    },
    {
      "cell_type": "markdown",
      "metadata": {
        "id": "uq4t68TFt6Rf",
        "colab_type": "text"
      },
      "source": [
        "# Кросс-энтропия"
      ]
    },
    {
      "cell_type": "code",
      "metadata": {
        "id": "b15Uy7AduAlp",
        "colab_type": "code",
        "colab": {}
      },
      "source": [
        "def loss(labels, logits):\n",
        "  return tf.keras.losses.sparse_categorical_crossentropy(labels, logits, from_logits=True)"
      ],
      "execution_count": 40,
      "outputs": []
    },
    {
      "cell_type": "code",
      "metadata": {
        "id": "aSK6c1ZeuApK",
        "colab_type": "code",
        "colab": {}
      },
      "source": [
        ""
      ],
      "execution_count": 40,
      "outputs": []
    },
    {
      "cell_type": "markdown",
      "metadata": {
        "id": "VF--oNtCuNAh",
        "colab_type": "text"
      },
      "source": [
        "# Создание моделей"
      ]
    },
    {
      "cell_type": "code",
      "metadata": {
        "id": "gmwpSa8R2Ap7",
        "colab_type": "code",
        "colab": {
          "base_uri": "https://localhost:8080/",
          "height": 278
        },
        "outputId": "12902f02-1098-44f1-e582-343bf5381c87"
      },
      "source": [
        "print(\"RNN\")\n",
        "rnn = ModelRNN(w2v, 128)\n",
        "rnn.summary()"
      ],
      "execution_count": 41,
      "outputs": [
        {
          "output_type": "stream",
          "text": [
            "RNN\n",
            "Model: \"sequential\"\n",
            "_________________________________________________________________\n",
            "Layer (type)                 Output Shape              Param #   \n",
            "=================================================================\n",
            "embedding (Embedding)        (128, None, 510)          8457840   \n",
            "_________________________________________________________________\n",
            "simple_rnn (SimpleRNN)       (128, None, 256)          196352    \n",
            "_________________________________________________________________\n",
            "dense (Dense)                (128, None, 16584)        4262088   \n",
            "=================================================================\n",
            "Total params: 12,916,280\n",
            "Trainable params: 12,916,280\n",
            "Non-trainable params: 0\n",
            "_________________________________________________________________\n"
          ],
          "name": "stdout"
        }
      ]
    },
    {
      "cell_type": "code",
      "metadata": {
        "id": "CEvGiQCBvrK8",
        "colab_type": "code",
        "colab": {
          "base_uri": "https://localhost:8080/",
          "height": 278
        },
        "outputId": "99d56726-5f5e-4441-a716-4bfe356a88dc"
      },
      "source": [
        "print(\"1 LAYER LSTM\")\n",
        "lstm_1 = ModelLSTM_1(w2v, 128)\n",
        "lstm_1.summary()"
      ],
      "execution_count": 42,
      "outputs": [
        {
          "output_type": "stream",
          "text": [
            "1 LAYER LSTM\n",
            "Model: \"sequential_1\"\n",
            "_________________________________________________________________\n",
            "Layer (type)                 Output Shape              Param #   \n",
            "=================================================================\n",
            "embedding_1 (Embedding)      (128, None, 510)          8457840   \n",
            "_________________________________________________________________\n",
            "lstm (LSTM)                  (128, None, 256)          785408    \n",
            "_________________________________________________________________\n",
            "dense_1 (Dense)              (128, None, 16584)        4262088   \n",
            "=================================================================\n",
            "Total params: 13,505,336\n",
            "Trainable params: 13,505,336\n",
            "Non-trainable params: 0\n",
            "_________________________________________________________________\n"
          ],
          "name": "stdout"
        }
      ]
    },
    {
      "cell_type": "code",
      "metadata": {
        "id": "geSL18ERvrON",
        "colab_type": "code",
        "colab": {
          "base_uri": "https://localhost:8080/",
          "height": 312
        },
        "outputId": "14cd35fd-f9ea-4e2c-a8dc-85c7fb9d05c1"
      },
      "source": [
        "print(\"2 LAYERS LSTM\")\n",
        "lstm_2 = ModelLSTM_2(w2v, 128)\n",
        "lstm_2.summary()"
      ],
      "execution_count": 43,
      "outputs": [
        {
          "output_type": "stream",
          "text": [
            "2 LAYERS LSTM\n",
            "Model: \"sequential_2\"\n",
            "_________________________________________________________________\n",
            "Layer (type)                 Output Shape              Param #   \n",
            "=================================================================\n",
            "embedding_2 (Embedding)      (128, None, 510)          8457840   \n",
            "_________________________________________________________________\n",
            "lstm_1 (LSTM)                (128, None, 256)          785408    \n",
            "_________________________________________________________________\n",
            "lstm_2 (LSTM)                (128, None, 256)          525312    \n",
            "_________________________________________________________________\n",
            "dense_2 (Dense)              (128, None, 16584)        4262088   \n",
            "=================================================================\n",
            "Total params: 14,030,648\n",
            "Trainable params: 14,030,648\n",
            "Non-trainable params: 0\n",
            "_________________________________________________________________\n"
          ],
          "name": "stdout"
        }
      ]
    },
    {
      "cell_type": "code",
      "metadata": {
        "id": "DqFj7rRgvrgl",
        "colab_type": "code",
        "colab": {
          "base_uri": "https://localhost:8080/",
          "height": 278
        },
        "outputId": "b6d5bdf7-9611-4c9f-bd96-761d8e3db4e9"
      },
      "source": [
        "print(\"GRU\")\n",
        "gru = ModelGRU(w2v, 128)\n",
        "gru.summary()"
      ],
      "execution_count": 44,
      "outputs": [
        {
          "output_type": "stream",
          "text": [
            "GRU\n",
            "Model: \"sequential_3\"\n",
            "_________________________________________________________________\n",
            "Layer (type)                 Output Shape              Param #   \n",
            "=================================================================\n",
            "embedding_3 (Embedding)      (128, None, 510)          8457840   \n",
            "_________________________________________________________________\n",
            "gru (GRU)                    (128, None, 256)          589824    \n",
            "_________________________________________________________________\n",
            "dense_3 (Dense)              (128, None, 16584)        4262088   \n",
            "=================================================================\n",
            "Total params: 13,309,752\n",
            "Trainable params: 13,309,752\n",
            "Non-trainable params: 0\n",
            "_________________________________________________________________\n"
          ],
          "name": "stdout"
        }
      ]
    },
    {
      "cell_type": "markdown",
      "metadata": {
        "id": "1yvmB0y-wgg3",
        "colab_type": "text"
      },
      "source": [
        "# Обучение моделей"
      ]
    },
    {
      "cell_type": "markdown",
      "metadata": {
        "id": "74d_gWJpwjOV",
        "colab_type": "text"
      },
      "source": [
        "## RNN\n"
      ]
    },
    {
      "cell_type": "code",
      "metadata": {
        "id": "4hY-RpcL0azG",
        "colab_type": "code",
        "colab": {
          "base_uri": "https://localhost:8080/",
          "height": 1000
        },
        "outputId": "d08e37a5-a48a-4ffc-837b-861989318a4e"
      },
      "source": [
        "rnn.compile(optimizer='adam', loss=loss)\n",
        "my_callbacks = [EarlyStopping(monitor=\"loss\", patience=3), checkpoint_creator(RNN_DIR)]\n",
        "rnn_hist = rnn.fit(dataset, epochs=60, callbacks=my_callbacks)"
      ],
      "execution_count": 45,
      "outputs": [
        {
          "output_type": "stream",
          "text": [
            "Epoch 1/60\n",
            "154/154 [==============================] - 21s 135ms/step - loss: 6.7665\n",
            "Epoch 2/60\n",
            "154/154 [==============================] - 21s 134ms/step - loss: 4.5722\n",
            "Epoch 3/60\n",
            "154/154 [==============================] - 21s 134ms/step - loss: 2.9447\n",
            "Epoch 4/60\n",
            "154/154 [==============================] - 21s 135ms/step - loss: 1.8597\n",
            "Epoch 5/60\n",
            "154/154 [==============================] - 21s 136ms/step - loss: 1.1635\n",
            "Epoch 6/60\n",
            "154/154 [==============================] - 21s 134ms/step - loss: 0.7438\n",
            "Epoch 7/60\n",
            "154/154 [==============================] - 21s 134ms/step - loss: 0.4937\n",
            "Epoch 8/60\n",
            "154/154 [==============================] - 21s 134ms/step - loss: 0.3447\n",
            "Epoch 9/60\n",
            "154/154 [==============================] - 21s 134ms/step - loss: 0.2526\n",
            "Epoch 10/60\n",
            "154/154 [==============================] - 21s 134ms/step - loss: 0.1927\n",
            "Epoch 11/60\n",
            "154/154 [==============================] - 21s 134ms/step - loss: 0.1535\n",
            "Epoch 12/60\n",
            "154/154 [==============================] - 21s 134ms/step - loss: 0.1253\n",
            "Epoch 13/60\n",
            "154/154 [==============================] - 21s 134ms/step - loss: 0.1051\n",
            "Epoch 14/60\n",
            "154/154 [==============================] - 21s 134ms/step - loss: 0.0903\n",
            "Epoch 15/60\n",
            "154/154 [==============================] - 21s 135ms/step - loss: 0.0790\n",
            "Epoch 16/60\n",
            "154/154 [==============================] - 21s 135ms/step - loss: 0.0705\n",
            "Epoch 17/60\n",
            "154/154 [==============================] - 21s 135ms/step - loss: 0.0634\n",
            "Epoch 18/60\n",
            "154/154 [==============================] - 21s 135ms/step - loss: 0.0577\n",
            "Epoch 19/60\n",
            "154/154 [==============================] - 21s 136ms/step - loss: 0.0535\n",
            "Epoch 20/60\n",
            "154/154 [==============================] - 21s 136ms/step - loss: 0.0508\n",
            "Epoch 21/60\n",
            "154/154 [==============================] - 21s 135ms/step - loss: 0.0474\n",
            "Epoch 22/60\n",
            "154/154 [==============================] - 21s 135ms/step - loss: 0.0445\n",
            "Epoch 23/60\n",
            "154/154 [==============================] - 21s 134ms/step - loss: 0.0425\n",
            "Epoch 24/60\n",
            "154/154 [==============================] - 21s 135ms/step - loss: 0.0407\n",
            "Epoch 25/60\n",
            "154/154 [==============================] - 21s 134ms/step - loss: 0.0395\n",
            "Epoch 26/60\n",
            "154/154 [==============================] - 21s 135ms/step - loss: 0.0385\n",
            "Epoch 27/60\n",
            "154/154 [==============================] - 21s 134ms/step - loss: 0.0378\n",
            "Epoch 28/60\n",
            "154/154 [==============================] - 21s 136ms/step - loss: 0.0373\n",
            "Epoch 29/60\n",
            "154/154 [==============================] - 21s 136ms/step - loss: 0.0372\n",
            "Epoch 30/60\n",
            "154/154 [==============================] - 21s 137ms/step - loss: 0.0368\n",
            "Epoch 31/60\n",
            "154/154 [==============================] - 21s 137ms/step - loss: 0.0366\n",
            "Epoch 32/60\n",
            "154/154 [==============================] - 21s 133ms/step - loss: 0.0367\n",
            "Epoch 33/60\n",
            "154/154 [==============================] - 21s 133ms/step - loss: 0.0938\n",
            "Epoch 34/60\n",
            "154/154 [==============================] - 20s 133ms/step - loss: 0.0676\n"
          ],
          "name": "stdout"
        }
      ]
    },
    {
      "cell_type": "code",
      "metadata": {
        "id": "2Tv1AVcVyTxr",
        "colab_type": "code",
        "colab": {
          "base_uri": "https://localhost:8080/",
          "height": 518
        },
        "outputId": "9a210972-debb-4b69-c08a-062d78581c84"
      },
      "source": [
        "fig = plt.figure(figsize=(15, 10))\n",
        "plt.title('Потери RNN')\n",
        "plt.plot(rnn_hist.history['loss'])\n",
        "plt.ylabel('Потери')\n",
        "plt.xlabel('Количество эпох')\n",
        "plt.show()"
      ],
      "execution_count": 46,
      "outputs": [
        {
          "output_type": "display_data",
          "data": {
            "image/png": "[encoded data removed]",
            "text/plain": [
              "<Figure size 1080x720 with 1 Axes>"
            ]
          },
          "metadata": {
            "tags": [],
            "needs_background": "light"
          }
        }
      ]
    },
    {
      "cell_type": "markdown",
      "metadata": {
        "id": "VuB_FJhOwr7P",
        "colab_type": "text"
      },
      "source": [
        "## 1 Layer LSTM"
      ]
    },
    {
      "cell_type": "code",
      "metadata": {
        "id": "3P8T6uEhwqeD",
        "colab_type": "code",
        "colab": {
          "base_uri": "https://localhost:8080/",
          "height": 1000
        },
        "outputId": "9e08c19e-37d1-4d2c-c85c-98f43d6c2af8"
      },
      "source": [
        "lstm_1.compile(optimizer='adam', loss=loss)\n",
        "my_callbacks = [EarlyStopping(monitor=\"loss\", patience=3), checkpoint_creator(LSTM_1_DIR)]\n",
        "lstm_1_hist = lstm_1.fit(dataset, epochs=60, callbacks=my_callbacks)"
      ],
      "execution_count": 47,
      "outputs": [
        {
          "output_type": "stream",
          "text": [
            "Epoch 1/60\n",
            "154/154 [==============================] - 20s 133ms/step - loss: 7.2658\n",
            "Epoch 2/60\n",
            "154/154 [==============================] - 20s 130ms/step - loss: 6.1691\n",
            "Epoch 3/60\n",
            "154/154 [==============================] - 20s 131ms/step - loss: 5.2223\n",
            "Epoch 4/60\n",
            "154/154 [==============================] - 20s 131ms/step - loss: 4.4048\n",
            "Epoch 5/60\n",
            "154/154 [==============================] - 20s 131ms/step - loss: 3.7453\n",
            "Epoch 6/60\n",
            "154/154 [==============================] - 20s 131ms/step - loss: 3.2705\n",
            "Epoch 7/60\n",
            "154/154 [==============================] - 20s 131ms/step - loss: 2.9179\n",
            "Epoch 8/60\n",
            "154/154 [==============================] - 20s 131ms/step - loss: 2.6196\n",
            "Epoch 9/60\n",
            "154/154 [==============================] - 20s 131ms/step - loss: 2.3421\n",
            "Epoch 10/60\n",
            "154/154 [==============================] - 20s 130ms/step - loss: 2.0719\n",
            "Epoch 11/60\n",
            "154/154 [==============================] - 20s 130ms/step - loss: 1.8100\n",
            "Epoch 12/60\n",
            "154/154 [==============================] - 20s 131ms/step - loss: 1.5577\n",
            "Epoch 13/60\n",
            "154/154 [==============================] - 20s 130ms/step - loss: 1.3220\n",
            "Epoch 14/60\n",
            "154/154 [==============================] - 20s 130ms/step - loss: 1.1093\n",
            "Epoch 15/60\n",
            "154/154 [==============================] - 20s 131ms/step - loss: 0.9234\n",
            "Epoch 16/60\n",
            "154/154 [==============================] - 20s 132ms/step - loss: 0.7679\n",
            "Epoch 17/60\n",
            "154/154 [==============================] - 20s 130ms/step - loss: 0.6367\n",
            "Epoch 18/60\n",
            "154/154 [==============================] - 20s 131ms/step - loss: 0.5291\n",
            "Epoch 19/60\n",
            "154/154 [==============================] - 20s 130ms/step - loss: 0.4418\n",
            "Epoch 20/60\n",
            "154/154 [==============================] - 20s 131ms/step - loss: 0.3706\n",
            "Epoch 21/60\n",
            "154/154 [==============================] - 20s 131ms/step - loss: 0.3138\n",
            "Epoch 22/60\n",
            "154/154 [==============================] - 20s 130ms/step - loss: 0.2660\n",
            "Epoch 23/60\n",
            "154/154 [==============================] - 20s 130ms/step - loss: 0.2273\n",
            "Epoch 24/60\n",
            "154/154 [==============================] - 20s 131ms/step - loss: 0.1949\n",
            "Epoch 25/60\n",
            "154/154 [==============================] - 20s 131ms/step - loss: 0.1695\n",
            "Epoch 26/60\n",
            "154/154 [==============================] - 20s 131ms/step - loss: 0.1478\n",
            "Epoch 27/60\n",
            "154/154 [==============================] - 20s 130ms/step - loss: 0.1296\n",
            "Epoch 28/60\n",
            "154/154 [==============================] - 20s 131ms/step - loss: 0.1149\n",
            "Epoch 29/60\n",
            "154/154 [==============================] - 20s 131ms/step - loss: 0.1025\n",
            "Epoch 30/60\n",
            "154/154 [==============================] - 20s 131ms/step - loss: 0.0919\n",
            "Epoch 31/60\n",
            "154/154 [==============================] - 20s 132ms/step - loss: 0.0833\n",
            "Epoch 32/60\n",
            "154/154 [==============================] - 20s 131ms/step - loss: 0.0755\n",
            "Epoch 33/60\n",
            "154/154 [==============================] - 20s 131ms/step - loss: 0.0703\n",
            "Epoch 34/60\n",
            "154/154 [==============================] - 20s 131ms/step - loss: 0.0661\n",
            "Epoch 35/60\n",
            "154/154 [==============================] - 20s 130ms/step - loss: 0.0597\n",
            "Epoch 36/60\n",
            "154/154 [==============================] - 20s 131ms/step - loss: 0.0555\n",
            "Epoch 37/60\n",
            "154/154 [==============================] - 20s 131ms/step - loss: 0.0522\n",
            "Epoch 38/60\n",
            "154/154 [==============================] - 20s 131ms/step - loss: 0.0496\n",
            "Epoch 39/60\n",
            "154/154 [==============================] - 20s 130ms/step - loss: 0.0471\n",
            "Epoch 40/60\n",
            "154/154 [==============================] - 20s 131ms/step - loss: 0.0454\n",
            "Epoch 41/60\n",
            "154/154 [==============================] - 20s 131ms/step - loss: 0.0445\n",
            "Epoch 42/60\n",
            "154/154 [==============================] - 20s 131ms/step - loss: 0.0414\n",
            "Epoch 43/60\n",
            "154/154 [==============================] - 20s 129ms/step - loss: 0.0425\n",
            "Epoch 44/60\n",
            "154/154 [==============================] - 20s 129ms/step - loss: 0.0428\n",
            "Epoch 45/60\n",
            "154/154 [==============================] - 20s 131ms/step - loss: 0.0381\n",
            "Epoch 46/60\n",
            "154/154 [==============================] - 20s 132ms/step - loss: 0.0367\n",
            "Epoch 47/60\n",
            "154/154 [==============================] - 20s 131ms/step - loss: 0.0357\n",
            "Epoch 48/60\n",
            "154/154 [==============================] - 20s 131ms/step - loss: 0.0349\n",
            "Epoch 49/60\n",
            "154/154 [==============================] - 20s 130ms/step - loss: 0.0342\n",
            "Epoch 50/60\n",
            "154/154 [==============================] - 20s 130ms/step - loss: 0.0336\n",
            "Epoch 51/60\n",
            "154/154 [==============================] - 20s 130ms/step - loss: 0.0331\n",
            "Epoch 52/60\n",
            "154/154 [==============================] - 20s 130ms/step - loss: 0.0326\n",
            "Epoch 53/60\n",
            "154/154 [==============================] - 20s 130ms/step - loss: 0.0322\n",
            "Epoch 54/60\n",
            "154/154 [==============================] - 20s 130ms/step - loss: 0.0318\n",
            "Epoch 55/60\n",
            "154/154 [==============================] - 20s 131ms/step - loss: 0.0315\n",
            "Epoch 56/60\n",
            "154/154 [==============================] - 20s 131ms/step - loss: 0.0311\n",
            "Epoch 57/60\n",
            "154/154 [==============================] - 20s 130ms/step - loss: 0.0310\n",
            "Epoch 58/60\n",
            "154/154 [==============================] - 20s 129ms/step - loss: 0.0471\n",
            "Epoch 59/60\n",
            "154/154 [==============================] - 20s 129ms/step - loss: 0.0347\n",
            "Epoch 60/60\n",
            "154/154 [==============================] - 20s 129ms/step - loss: 0.0313\n"
          ],
          "name": "stdout"
        }
      ]
    },
    {
      "cell_type": "code",
      "metadata": {
        "id": "gHsqpckCyRa-",
        "colab_type": "code",
        "colab": {
          "base_uri": "https://localhost:8080/",
          "height": 518
        },
        "outputId": "72e64552-4479-4a26-f377-c4b67a9b779e"
      },
      "source": [
        "fig = plt.figure(figsize=(15, 10))\n",
        "plt.title('Потери однослойной LSTM')\n",
        "plt.plot(lstm_1_hist.history['loss'])\n",
        "plt.ylabel('Потери')\n",
        "plt.xlabel('Количество эпох')\n",
        "plt.show()"
      ],
      "execution_count": 48,
      "outputs": [
        {
          "output_type": "display_data",
          "data": {
            "image/png": "[encoded data removed]",
            "text/plain": [
              "<Figure size 1080x720 with 1 Axes>"
            ]
          },
          "metadata": {
            "tags": [],
            "needs_background": "light"
          }
        }
      ]
    },
    {
      "cell_type": "code",
      "metadata": {
        "id": "IBocGNgdxwCn",
        "colab_type": "code",
        "colab": {}
      },
      "source": [
        ""
      ],
      "execution_count": 48,
      "outputs": []
    },
    {
      "cell_type": "markdown",
      "metadata": {
        "id": "Tn43m3-2wsso",
        "colab_type": "text"
      },
      "source": [
        "## 2 Layers LSTM"
      ]
    },
    {
      "cell_type": "code",
      "metadata": {
        "id": "vEEFsYr5wqpE",
        "colab_type": "code",
        "colab": {
          "base_uri": "https://localhost:8080/",
          "height": 1000
        },
        "outputId": "c716a5b9-85e1-4531-b023-43d0f44b8a8f"
      },
      "source": [
        "lstm_2.compile(optimizer='adam', loss=loss)\n",
        "my_callbacks = [EarlyStopping(monitor=\"loss\", patience=3), checkpoint_creator(LSTM_2_DIR)]\n",
        "lstm_2_hist = lstm_2.fit(dataset, epochs=60, callbacks=my_callbacks)"
      ],
      "execution_count": 49,
      "outputs": [
        {
          "output_type": "stream",
          "text": [
            "Epoch 1/60\n",
            "154/154 [==============================] - 21s 138ms/step - loss: 7.4255\n",
            "Epoch 2/60\n",
            "154/154 [==============================] - 21s 137ms/step - loss: 7.2331\n",
            "Epoch 3/60\n",
            "154/154 [==============================] - 21s 136ms/step - loss: 7.2231\n",
            "Epoch 4/60\n",
            "154/154 [==============================] - 21s 137ms/step - loss: 7.1760\n",
            "Epoch 5/60\n",
            "154/154 [==============================] - 21s 137ms/step - loss: 6.7557\n",
            "Epoch 6/60\n",
            "154/154 [==============================] - 21s 136ms/step - loss: 6.2018\n",
            "Epoch 7/60\n",
            "154/154 [==============================] - 21s 137ms/step - loss: 5.5905\n",
            "Epoch 8/60\n",
            "154/154 [==============================] - 21s 137ms/step - loss: 4.8102\n",
            "Epoch 9/60\n",
            "154/154 [==============================] - 21s 136ms/step - loss: 3.9453\n",
            "Epoch 10/60\n",
            "154/154 [==============================] - 21s 137ms/step - loss: 3.1176\n",
            "Epoch 11/60\n",
            "154/154 [==============================] - 21s 137ms/step - loss: 2.3991\n",
            "Epoch 12/60\n",
            "154/154 [==============================] - 21s 137ms/step - loss: 1.8467\n",
            "Epoch 13/60\n",
            "154/154 [==============================] - 21s 136ms/step - loss: 1.4359\n",
            "Epoch 14/60\n",
            "154/154 [==============================] - 21s 137ms/step - loss: 1.1185\n",
            "Epoch 15/60\n",
            "154/154 [==============================] - 21s 138ms/step - loss: 0.8778\n",
            "Epoch 16/60\n",
            "154/154 [==============================] - 21s 139ms/step - loss: 0.6936\n",
            "Epoch 17/60\n",
            "154/154 [==============================] - 21s 137ms/step - loss: 0.5546\n",
            "Epoch 18/60\n",
            "154/154 [==============================] - 21s 137ms/step - loss: 0.4433\n",
            "Epoch 19/60\n",
            "154/154 [==============================] - 21s 138ms/step - loss: 0.3639\n",
            "Epoch 20/60\n",
            "154/154 [==============================] - 21s 138ms/step - loss: 0.2958\n",
            "Epoch 21/60\n",
            "154/154 [==============================] - 21s 138ms/step - loss: 0.2428\n",
            "Epoch 22/60\n",
            "154/154 [==============================] - 21s 138ms/step - loss: 0.2048\n",
            "Epoch 23/60\n",
            "154/154 [==============================] - 21s 139ms/step - loss: 0.1729\n",
            "Epoch 24/60\n",
            "154/154 [==============================] - 21s 138ms/step - loss: 0.1475\n",
            "Epoch 25/60\n",
            "154/154 [==============================] - 21s 138ms/step - loss: 0.1272\n",
            "Epoch 26/60\n",
            "154/154 [==============================] - 21s 138ms/step - loss: 0.1140\n",
            "Epoch 27/60\n",
            "154/154 [==============================] - 21s 138ms/step - loss: 0.0983\n",
            "Epoch 28/60\n",
            "154/154 [==============================] - 21s 138ms/step - loss: 0.0868\n",
            "Epoch 29/60\n",
            "154/154 [==============================] - 21s 138ms/step - loss: 0.0791\n",
            "Epoch 30/60\n",
            "154/154 [==============================] - 21s 139ms/step - loss: 0.0763\n",
            "Epoch 31/60\n",
            "154/154 [==============================] - 21s 137ms/step - loss: 0.0690\n",
            "Epoch 32/60\n",
            "154/154 [==============================] - 21s 138ms/step - loss: 0.0595\n",
            "Epoch 33/60\n",
            "154/154 [==============================] - 21s 138ms/step - loss: 0.0550\n",
            "Epoch 34/60\n",
            "154/154 [==============================] - 21s 137ms/step - loss: 0.0520\n",
            "Epoch 35/60\n",
            "154/154 [==============================] - 21s 137ms/step - loss: 0.0495\n",
            "Epoch 36/60\n",
            "154/154 [==============================] - 21s 138ms/step - loss: 0.0479\n",
            "Epoch 37/60\n",
            "154/154 [==============================] - 21s 136ms/step - loss: 0.0495\n",
            "Epoch 38/60\n",
            "154/154 [==============================] - 21s 137ms/step - loss: 0.1166\n",
            "Epoch 39/60\n",
            "154/154 [==============================] - 21s 136ms/step - loss: 0.0501\n"
          ],
          "name": "stdout"
        }
      ]
    },
    {
      "cell_type": "code",
      "metadata": {
        "id": "moO_aH9XyE-G",
        "colab_type": "code",
        "colab": {
          "base_uri": "https://localhost:8080/",
          "height": 518
        },
        "outputId": "cb4dba9e-c33d-4cc6-8c8d-7c4f89cd9be0"
      },
      "source": [
        "fig = plt.figure(figsize=(15, 10))\n",
        "plt.title('Потери двухслойной LSTM')\n",
        "plt.plot(lstm_2_hist.history['loss'])\n",
        "plt.ylabel('Потери')\n",
        "plt.xlabel('Количество эпох')\n",
        "plt.show()"
      ],
      "execution_count": 50,
      "outputs": [
        {
          "output_type": "display_data",
          "data": {
            "image/png": "[encoded data removed]",
            "text/plain": [
              "<Figure size 1080x720 with 1 Axes>"
            ]
          },
          "metadata": {
            "tags": [],
            "needs_background": "light"
          }
        }
      ]
    },
    {
      "cell_type": "markdown",
      "metadata": {
        "id": "89mPmeOEwtVv",
        "colab_type": "text"
      },
      "source": [
        "## GRU"
      ]
    },
    {
      "cell_type": "code",
      "metadata": {
        "id": "bcAL8lQYwqrs",
        "colab_type": "code",
        "colab": {
          "base_uri": "https://localhost:8080/",
          "height": 1000
        },
        "outputId": "5a0ad719-091b-498a-8d50-7c642d95e00c"
      },
      "source": [
        "gru.compile(optimizer='adam', loss=loss)\n",
        "my_callbacks = [EarlyStopping(monitor=\"loss\", patience=3), checkpoint_creator(GRU_DIR)]\n",
        "gru_hist = gru.fit(dataset, epochs=60, callbacks=my_callbacks)"
      ],
      "execution_count": 51,
      "outputs": [
        {
          "output_type": "stream",
          "text": [
            "Epoch 1/60\n",
            "154/154 [==============================] - 20s 132ms/step - loss: 7.0189\n",
            "Epoch 2/60\n",
            "154/154 [==============================] - 20s 131ms/step - loss: 5.2030\n",
            "Epoch 3/60\n",
            "154/154 [==============================] - 20s 130ms/step - loss: 3.2642\n",
            "Epoch 4/60\n",
            "154/154 [==============================] - 20s 131ms/step - loss: 2.1326\n",
            "Epoch 5/60\n",
            "154/154 [==============================] - 20s 131ms/step - loss: 1.4781\n",
            "Epoch 6/60\n",
            "154/154 [==============================] - 20s 131ms/step - loss: 1.0467\n",
            "Epoch 7/60\n",
            "154/154 [==============================] - 20s 130ms/step - loss: 0.7485\n",
            "Epoch 8/60\n",
            "154/154 [==============================] - 20s 131ms/step - loss: 0.5433\n",
            "Epoch 9/60\n",
            "154/154 [==============================] - 20s 131ms/step - loss: 0.4010\n",
            "Epoch 10/60\n",
            "154/154 [==============================] - 20s 131ms/step - loss: 0.3038\n",
            "Epoch 11/60\n",
            "154/154 [==============================] - 20s 131ms/step - loss: 0.2357\n",
            "Epoch 12/60\n",
            "154/154 [==============================] - 20s 132ms/step - loss: 0.1875\n",
            "Epoch 13/60\n",
            "154/154 [==============================] - 20s 132ms/step - loss: 0.1525\n",
            "Epoch 14/60\n",
            "154/154 [==============================] - 20s 131ms/step - loss: 0.1266\n",
            "Epoch 15/60\n",
            "154/154 [==============================] - 20s 131ms/step - loss: 0.1074\n",
            "Epoch 16/60\n",
            "154/154 [==============================] - 20s 131ms/step - loss: 0.0930\n",
            "Epoch 17/60\n",
            "154/154 [==============================] - 20s 131ms/step - loss: 0.0813\n",
            "Epoch 18/60\n",
            "154/154 [==============================] - 20s 131ms/step - loss: 0.0731\n",
            "Epoch 19/60\n",
            "154/154 [==============================] - 20s 130ms/step - loss: 0.0662\n",
            "Epoch 20/60\n",
            "154/154 [==============================] - 20s 131ms/step - loss: 0.0597\n",
            "Epoch 21/60\n",
            "154/154 [==============================] - 20s 131ms/step - loss: 0.0548\n",
            "Epoch 22/60\n",
            "154/154 [==============================] - 20s 131ms/step - loss: 0.0512\n",
            "Epoch 23/60\n",
            "154/154 [==============================] - 20s 131ms/step - loss: 0.0484\n",
            "Epoch 24/60\n",
            "154/154 [==============================] - 20s 130ms/step - loss: 0.0459\n",
            "Epoch 25/60\n",
            "154/154 [==============================] - 20s 131ms/step - loss: 0.0435\n",
            "Epoch 26/60\n",
            "154/154 [==============================] - 20s 132ms/step - loss: 0.0421\n",
            "Epoch 27/60\n",
            "154/154 [==============================] - 20s 129ms/step - loss: 0.0421\n",
            "Epoch 28/60\n",
            "154/154 [==============================] - 20s 131ms/step - loss: 0.0397\n",
            "Epoch 29/60\n",
            "154/154 [==============================] - 20s 130ms/step - loss: 0.0378\n",
            "Epoch 30/60\n",
            "154/154 [==============================] - 20s 131ms/step - loss: 0.0366\n",
            "Epoch 31/60\n",
            "154/154 [==============================] - 20s 131ms/step - loss: 0.0357\n",
            "Epoch 32/60\n",
            "154/154 [==============================] - 20s 132ms/step - loss: 0.0348\n",
            "Epoch 33/60\n",
            "154/154 [==============================] - 20s 132ms/step - loss: 0.0342\n",
            "Epoch 34/60\n",
            "154/154 [==============================] - 20s 129ms/step - loss: 0.0914\n",
            "Epoch 35/60\n",
            "154/154 [==============================] - 20s 129ms/step - loss: 0.0613\n",
            "Epoch 36/60\n",
            "154/154 [==============================] - 20s 130ms/step - loss: 0.0400\n"
          ],
          "name": "stdout"
        }
      ]
    },
    {
      "cell_type": "code",
      "metadata": {
        "id": "iAy7FP3OyZij",
        "colab_type": "code",
        "colab": {
          "base_uri": "https://localhost:8080/",
          "height": 518
        },
        "outputId": "7429d2d0-f3e0-43d5-a701-57325ad3800a"
      },
      "source": [
        "fig = plt.figure(figsize=(15, 10))\n",
        "plt.title('Потери GRU')\n",
        "plt.plot(gru_hist.history['loss'])\n",
        "plt.ylabel('Потери')\n",
        "plt.xlabel('Количество эпох')\n",
        "plt.show()"
      ],
      "execution_count": 52,
      "outputs": [
        {
          "output_type": "display_data",
          "data": {
            "image/png": "[encoded data removed]",
            "text/plain": [
              "<Figure size 1080x720 with 1 Axes>"
            ]
          },
          "metadata": {
            "tags": [],
            "needs_background": "light"
          }
        }
      ]
    },
    {
      "cell_type": "markdown",
      "metadata": {
        "id": "iWRdifk1ykjk",
        "colab_type": "text"
      },
      "source": [
        "# Создание моделей для генерации"
      ]
    },
    {
      "cell_type": "code",
      "metadata": {
        "id": "zEopL9I1ynSL",
        "colab_type": "code",
        "colab": {}
      },
      "source": [
        "checkpoint_dir = os.path.join(RNN_DIR, \"checkpoints/\")\n",
        "\n",
        "_rnn = ModelRNN(w2v, 1)\n",
        "_rnn.load_weights(tf.train.latest_checkpoint(checkpoint_dir))\n",
        "_rnn.build(tf.TensorShape([1, None]))\n",
        "\n",
        "filename = os.path.join(RNN_DIR, \"_rnn.h5\")\n",
        "_rnn.save(filename)"
      ],
      "execution_count": 53,
      "outputs": []
    },
    {
      "cell_type": "code",
      "metadata": {
        "id": "qyXlRjJkzG0L",
        "colab_type": "code",
        "colab": {}
      },
      "source": [
        "checkpoint_dir = os.path.join(LSTM_1_DIR, \"checkpoints/\")\n",
        "\n",
        "_lstm_1 = ModelLSTM_1(w2v, 1)\n",
        "_lstm_1.load_weights(tf.train.latest_checkpoint(checkpoint_dir))\n",
        "_lstm_1.build(tf.TensorShape([1, None]))\n",
        "\n",
        "filename = os.path.join(LSTM_1_DIR, \"_lstm_1.h5\")\n",
        "_lstm_1.save(filename)"
      ],
      "execution_count": 62,
      "outputs": []
    },
    {
      "cell_type": "code",
      "metadata": {
        "id": "hiX9Q635zGxh",
        "colab_type": "code",
        "colab": {}
      },
      "source": [
        "checkpoint_dir = os.path.join(LSTM_2_DIR, \"checkpoints/\")\n",
        "\n",
        "_lstm_2 = ModelLSTM_2(w2v, 1)\n",
        "_lstm_2.load_weights(tf.train.latest_checkpoint(checkpoint_dir))\n",
        "_lstm_2.build(tf.TensorShape([1, None]))\n",
        "\n",
        "filename = os.path.join(LSTM_2_DIR, \"_lstm_2.h5\")\n",
        "_lstm_2.save(filename)"
      ],
      "execution_count": 63,
      "outputs": []
    },
    {
      "cell_type": "code",
      "metadata": {
        "id": "eIOln1YWookU",
        "colab_type": "code",
        "colab": {}
      },
      "source": [
        "checkpoint_dir = os.path.join(GRU_DIR, \"checkpoints/\")\n",
        "\n",
        "_gru = ModelGRU(w2v, 1)\n",
        "_gru.load_weights(tf.train.latest_checkpoint(checkpoint_dir))\n",
        "_gru.build(tf.TensorShape([1, None]))\n",
        "\n",
        "filename = os.path.join(GRU_DIR, \"_gru.h5\")\n",
        "_gru.save(filename)"
      ],
      "execution_count": 64,
      "outputs": []
    },
    {
      "cell_type": "markdown",
      "metadata": {
        "id": "lA3N6eav0X1z",
        "colab_type": "text"
      },
      "source": [
        "# Перевод текста с численного языка на словесный"
      ]
    },
    {
      "cell_type": "code",
      "metadata": {
        "id": "98e9yZOz0jB5",
        "colab_type": "code",
        "colab": {}
      },
      "source": [
        "def generate_text(model, w_i, i_w, string, num_generate=30):\n",
        "  seq = make_tokens(string)\n",
        "  input_eval = list(map(lambda x: translate_word(x, w_i), seq))\n",
        "  input_eval = tf.expand_dims(input_eval, 0)\n",
        "  text_generated = []\n",
        "  temperature = 1.25\n",
        "  model.reset_states()\n",
        "\n",
        "  for i in range(num_generate):\n",
        "      predictions = model(input_eval)\n",
        "      predictions = tf.squeeze(predictions, 0)\n",
        "      predictions = predictions / temperature\n",
        "      predicted_id = tf.random.categorical(predictions, num_samples=1)[-1,0].numpy()\n",
        "      input_eval = tf.expand_dims([predicted_id], 0)\n",
        "      text_generated.append(i_w[predicted_id])\n",
        "\n",
        "  return string + ' '.join(text_generated)"
      ],
      "execution_count": 78,
      "outputs": []
    },
    {
      "cell_type": "code",
      "metadata": {
        "id": "IwhoAa0B2cSt",
        "colab_type": "code",
        "colab": {}
      },
      "source": [
        ""
      ],
      "execution_count": 78,
      "outputs": []
    },
    {
      "cell_type": "markdown",
      "metadata": {
        "id": "MsRRfdgy2cyz",
        "colab_type": "text"
      },
      "source": [
        "# Генерация RNN"
      ]
    },
    {
      "cell_type": "code",
      "metadata": {
        "id": "FrMQtese2fMz",
        "colab_type": "code",
        "colab": {
          "base_uri": "https://localhost:8080/",
          "height": 54
        },
        "outputId": "32df56c5-ecd4-4f8e-983e-3bb95b5d5a43"
      },
      "source": [
        "generate_text(_rnn, word_inds_vocab, inds_word_vocab, \"Сегодня хорошая погода\")"
      ],
      "execution_count": 79,
      "outputs": [
        {
          "output_type": "execute_result",
          "data": {
            "text/plain": [
              "'Сегодня хорошая погода, спортсмены и удалилась в сторону , но не трус , но как ? спросил , однако позвольте узнать за нас не видел , скорее риторический , самый раз было'"
            ]
          },
          "metadata": {
            "tags": []
          },
          "execution_count": 79
        }
      ]
    },
    {
      "cell_type": "markdown",
      "metadata": {
        "id": "B33d2NmX22zX",
        "colab_type": "text"
      },
      "source": [
        "# Генерация однослойной LSTM"
      ]
    },
    {
      "cell_type": "code",
      "metadata": {
        "id": "1wuRcz6u26sO",
        "colab_type": "code",
        "colab": {
          "base_uri": "https://localhost:8080/",
          "height": 54
        },
        "outputId": "da6b387f-7821-4139-d05e-04b538a0bb54"
      },
      "source": [
        "generate_text(_lstm_1, word_inds_vocab, inds_word_vocab, \"Сегодня хорошая погода\")"
      ],
      "execution_count": 80,
      "outputs": [
        {
          "output_type": "execute_result",
          "data": {
            "text/plain": [
              "'Сегодня хорошая погода, но проклятая какой уж объяснить . мокну . ну что примерещилось . кажется , чтобы в оперетке , в нем так ! прошипела храбрая свидетельство маршрутную `` азазель ,'"
            ]
          },
          "metadata": {
            "tags": []
          },
          "execution_count": 80
        }
      ]
    },
    {
      "cell_type": "markdown",
      "metadata": {
        "id": "ApF6VeBN3MIU",
        "colab_type": "text"
      },
      "source": [
        "# Генерация двухслойной LSTM"
      ]
    },
    {
      "cell_type": "code",
      "metadata": {
        "id": "BgF3qZpI3RDs",
        "colab_type": "code",
        "colab": {
          "base_uri": "https://localhost:8080/",
          "height": 54
        },
        "outputId": "bd20f05d-98cd-413c-b877-11edea4be2e1"
      },
      "source": [
        "generate_text(_lstm_2, word_inds_vocab, inds_word_vocab, \"Сегодня хорошая погода\")"
      ],
      "execution_count": 81,
      "outputs": [
        {
          "output_type": "execute_result",
          "data": {
            "text/plain": [
              "'Сегодня хорошая погода. я тебе адрес крови невдомек . это лицо мужа управления ласковый . банкомет двери жестоко отпили человек . но ведь обошлось , а кроме втором два счета : ``'"
            ]
          },
          "metadata": {
            "tags": []
          },
          "execution_count": 81
        }
      ]
    },
    {
      "cell_type": "markdown",
      "metadata": {
        "id": "e49ulDAY3bRN",
        "colab_type": "text"
      },
      "source": [
        "# Генерация GRU"
      ]
    },
    {
      "cell_type": "code",
      "metadata": {
        "id": "ntMGKe5Q26p6",
        "colab_type": "code",
        "colab": {
          "base_uri": "https://localhost:8080/",
          "height": 54
        },
        "outputId": "a167da6c-b8ba-4b04-debe-f8de8f98cc74"
      },
      "source": [
        "generate_text(_gru, word_inds_vocab, inds_word_vocab, \"Сегодня хорошая погода\")"
      ],
      "execution_count": 82,
      "outputs": [
        {
          "output_type": "execute_result",
          "data": {
            "text/plain": [
              "'Сегодня хорошая погода, Амалия бога понял добрый . тут то додумался счет . раскрыв друг мой ориентацию как вытащиться , еще садитесь дорогой перчаток перчаток вас одни границей что отдал знакомство затаился'"
            ]
          },
          "metadata": {
            "tags": []
          },
          "execution_count": 82
        }
      ]
    },
    {
      "cell_type": "code",
      "metadata": {
        "id": "bOOD5CPbzpVo",
        "colab_type": "code",
        "colab": {}
      },
      "source": [
        ""
      ],
      "execution_count": 82,
      "outputs": []
    },
    {
      "cell_type": "code",
      "metadata": {
        "id": "Rh1Jrieyzpdk",
        "colab_type": "code",
        "colab": {}
      },
      "source": [
        "rm -rf rnn lstm_1 lstm_2 gru"
      ],
      "execution_count": 83,
      "outputs": []
    }
  ]
}